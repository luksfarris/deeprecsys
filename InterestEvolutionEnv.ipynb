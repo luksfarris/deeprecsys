{
 "metadata": {
  "orig_nbformat": 2,
  "kernelspec": {
   "name": "python3",
   "display_name": "Python 3",
   "language": "python"
  }
 },
 "nbformat": 4,
 "nbformat_minor": 2,
 "cells": [
  {
   "cell_type": "code",
   "execution_count": 2,
   "metadata": {},
   "outputs": [],
   "source": [
    "from pydeeprecsys.rl.manager import InterestEvolutionManager\n",
    "from numpy.random import RandomState\n",
    "from pydeeprecsys.rl.agents.rainbow import RainbowDQNAgent"
   ]
  },
  {
   "cell_type": "code",
   "execution_count": 11,
   "metadata": {},
   "outputs": [
    {
     "output_type": "execute_result",
     "data": {
      "text/plain": [
       "Dict(doc:Dict(0:Box(-1.0, 1.0, (20,), float32), 1:Box(-1.0, 1.0, (20,), float32), 10:Box(-1.0, 1.0, (20,), float32), 11:Box(-1.0, 1.0, (20,), float32), 12:Box(-1.0, 1.0, (20,), float32), 13:Box(-1.0, 1.0, (20,), float32), 14:Box(-1.0, 1.0, (20,), float32), 15:Box(-1.0, 1.0, (20,), float32), 16:Box(-1.0, 1.0, (20,), float32), 17:Box(-1.0, 1.0, (20,), float32), 18:Box(-1.0, 1.0, (20,), float32), 19:Box(-1.0, 1.0, (20,), float32), 2:Box(-1.0, 1.0, (20,), float32), 20:Box(-1.0, 1.0, (20,), float32), 21:Box(-1.0, 1.0, (20,), float32), 22:Box(-1.0, 1.0, (20,), float32), 23:Box(-1.0, 1.0, (20,), float32), 24:Box(-1.0, 1.0, (20,), float32), 25:Box(-1.0, 1.0, (20,), float32), 26:Box(-1.0, 1.0, (20,), float32), 27:Box(-1.0, 1.0, (20,), float32), 28:Box(-1.0, 1.0, (20,), float32), 29:Box(-1.0, 1.0, (20,), float32), 3:Box(-1.0, 1.0, (20,), float32), 30:Box(-1.0, 1.0, (20,), float32), 31:Box(-1.0, 1.0, (20,), float32), 32:Box(-1.0, 1.0, (20,), float32), 33:Box(-1.0, 1.0, (20,), float32), 34:Box(-1.0, 1.0, (20,), float32), 35:Box(-1.0, 1.0, (20,), float32), 36:Box(-1.0, 1.0, (20,), float32), 37:Box(-1.0, 1.0, (20,), float32), 38:Box(-1.0, 1.0, (20,), float32), 39:Box(-1.0, 1.0, (20,), float32), 4:Box(-1.0, 1.0, (20,), float32), 40:Box(-1.0, 1.0, (20,), float32), 41:Box(-1.0, 1.0, (20,), float32), 42:Box(-1.0, 1.0, (20,), float32), 43:Box(-1.0, 1.0, (20,), float32), 44:Box(-1.0, 1.0, (20,), float32), 45:Box(-1.0, 1.0, (20,), float32), 46:Box(-1.0, 1.0, (20,), float32), 47:Box(-1.0, 1.0, (20,), float32), 48:Box(-1.0, 1.0, (20,), float32), 49:Box(-1.0, 1.0, (20,), float32), 5:Box(-1.0, 1.0, (20,), float32), 50:Box(-1.0, 1.0, (20,), float32), 51:Box(-1.0, 1.0, (20,), float32), 52:Box(-1.0, 1.0, (20,), float32), 53:Box(-1.0, 1.0, (20,), float32), 54:Box(-1.0, 1.0, (20,), float32), 55:Box(-1.0, 1.0, (20,), float32), 56:Box(-1.0, 1.0, (20,), float32), 57:Box(-1.0, 1.0, (20,), float32), 58:Box(-1.0, 1.0, (20,), float32), 59:Box(-1.0, 1.0, (20,), float32), 6:Box(-1.0, 1.0, (20,), float32), 60:Box(-1.0, 1.0, (20,), float32), 61:Box(-1.0, 1.0, (20,), float32), 62:Box(-1.0, 1.0, (20,), float32), 63:Box(-1.0, 1.0, (20,), float32), 64:Box(-1.0, 1.0, (20,), float32), 65:Box(-1.0, 1.0, (20,), float32), 66:Box(-1.0, 1.0, (20,), float32), 67:Box(-1.0, 1.0, (20,), float32), 68:Box(-1.0, 1.0, (20,), float32), 69:Box(-1.0, 1.0, (20,), float32), 7:Box(-1.0, 1.0, (20,), float32), 70:Box(-1.0, 1.0, (20,), float32), 71:Box(-1.0, 1.0, (20,), float32), 72:Box(-1.0, 1.0, (20,), float32), 73:Box(-1.0, 1.0, (20,), float32), 74:Box(-1.0, 1.0, (20,), float32), 75:Box(-1.0, 1.0, (20,), float32), 76:Box(-1.0, 1.0, (20,), float32), 77:Box(-1.0, 1.0, (20,), float32), 78:Box(-1.0, 1.0, (20,), float32), 79:Box(-1.0, 1.0, (20,), float32), 8:Box(-1.0, 1.0, (20,), float32), 80:Box(-1.0, 1.0, (20,), float32), 81:Box(-1.0, 1.0, (20,), float32), 82:Box(-1.0, 1.0, (20,), float32), 83:Box(-1.0, 1.0, (20,), float32), 84:Box(-1.0, 1.0, (20,), float32), 85:Box(-1.0, 1.0, (20,), float32), 86:Box(-1.0, 1.0, (20,), float32), 87:Box(-1.0, 1.0, (20,), float32), 88:Box(-1.0, 1.0, (20,), float32), 89:Box(-1.0, 1.0, (20,), float32), 9:Box(-1.0, 1.0, (20,), float32), 90:Box(-1.0, 1.0, (20,), float32), 91:Box(-1.0, 1.0, (20,), float32), 92:Box(-1.0, 1.0, (20,), float32), 93:Box(-1.0, 1.0, (20,), float32), 94:Box(-1.0, 1.0, (20,), float32), 95:Box(-1.0, 1.0, (20,), float32), 96:Box(-1.0, 1.0, (20,), float32), 97:Box(-1.0, 1.0, (20,), float32), 98:Box(-1.0, 1.0, (20,), float32), 99:Box(-1.0, 1.0, (20,), float32)), response:Tuple(Dict(click:Discrete(2), cluster_id:Discrete(20), liked:Discrete(2), quality:Box(-100.0, 100.0, (), float32), watch_time:Box(0.0, 100.0, (), float32))), user:Box(-1.0, 1.0, (20,), float32))"
      ]
     },
     "metadata": {},
     "execution_count": 11
    }
   ],
   "source": [
    "manager.env.observation_space"
   ]
  },
  {
   "cell_type": "code",
   "execution_count": 3,
   "metadata": {},
   "outputs": [
    {
     "output_type": "error",
     "ename": "TypeError",
     "evalue": "'NoneType' object is not subscriptable",
     "traceback": [
      "\u001b[0;31m---------------------------------------------------------------------------\u001b[0m",
      "\u001b[0;31mTypeError\u001b[0m                                 Traceback (most recent call last)",
      "\u001b[0;32m<ipython-input-3-6bd79eed8c05>\u001b[0m in \u001b[0;36m<module>\u001b[0;34m\u001b[0m\n\u001b[1;32m      2\u001b[0m \u001b[0mrandom_state\u001b[0m \u001b[0;34m=\u001b[0m \u001b[0mRandomState\u001b[0m\u001b[0;34m(\u001b[0m\u001b[0;36m42\u001b[0m\u001b[0;34m)\u001b[0m\u001b[0;34m\u001b[0m\u001b[0;34m\u001b[0m\u001b[0m\n\u001b[1;32m      3\u001b[0m input_size = (\n\u001b[0;32m----> 4\u001b[0;31m     \u001b[0mmanager\u001b[0m\u001b[0;34m.\u001b[0m\u001b[0menv\u001b[0m\u001b[0;34m.\u001b[0m\u001b[0mobservation_space\u001b[0m\u001b[0;34m.\u001b[0m\u001b[0mshape\u001b[0m\u001b[0;34m[\u001b[0m\u001b[0;36m0\u001b[0m\u001b[0;34m]\u001b[0m\u001b[0;34m\u001b[0m\u001b[0;34m\u001b[0m\u001b[0m\n\u001b[0m\u001b[1;32m      5\u001b[0m )\n\u001b[1;32m      6\u001b[0m \u001b[0moutput_size\u001b[0m \u001b[0;34m=\u001b[0m \u001b[0mmanager\u001b[0m\u001b[0;34m.\u001b[0m\u001b[0menv\u001b[0m\u001b[0;34m.\u001b[0m\u001b[0maction_space\u001b[0m\u001b[0;34m.\u001b[0m\u001b[0mn\u001b[0m\u001b[0;34m\u001b[0m\u001b[0;34m\u001b[0m\u001b[0m\n",
      "\u001b[0;31mTypeError\u001b[0m: 'NoneType' object is not subscriptable"
     ]
    }
   ],
   "source": [
    "manager = InterestEvolutionManager()\n",
    "random_state = RandomState(42)\n",
    "input_size = (\n",
    "    manager.env.observation_space.shape[0]\n",
    ")\n",
    "output_size = manager.env.action_space.nvec[0]\n",
    "dqn_agent = RainbowDQNAgent(\n",
    "    input_size,\n",
    "    output_size,\n",
    "    network_update_frequency=5,\n",
    "    network_sync_frequency=250,\n",
    "    batch_size=32,\n",
    "    learning_rate=0.00025,\n",
    "    discount_factor=0.9,\n",
    "    buffer_size=10000,\n",
    "    buffer_burn_in=32,\n",
    "    random_state=random_state,\n",
    ")\n",
    "manager.train(dqn_agent, max_episodes=500)"
   ]
  }
 ]
}