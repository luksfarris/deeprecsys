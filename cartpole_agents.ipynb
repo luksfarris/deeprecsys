{
 "metadata": {
  "orig_nbformat": 2,
  "kernelspec": {
   "name": "python3613jvsc74a57bd0b1eaf65962b2c757aebf41083ae472141ef09901ff07595586c177957debc092",
   "display_name": "Python 3.6.13 64-bit ('venv')"
  }
 },
 "nbformat": 4,
 "nbformat_minor": 2,
 "cells": [
  {
   "cell_type": "code",
   "execution_count": null,
   "metadata": {},
   "outputs": [],
   "source": [
    "from pydeeprecsys.rl.manager import CartpoleManager\n",
    "from numpy.random import RandomState\n",
    "from pydeeprecsys.rl.agents.rainbow import RainbowDQNAgent\n",
    "from pydeeprecsys.rl.learning_statistics import LearningStatistics\n",
    "from pydeeprecsys.rl.agents.reinforce import ReinforceAgent"
   ]
  },
  {
   "cell_type": "code",
   "execution_count": null,
   "metadata": {},
   "outputs": [],
   "source": [
    "manager = CartpoleManager()\n",
    "random_state = RandomState(42)\n",
    "input_size = (manager.env.observation_space.shape[0])\n",
    "output_size = manager.env.action_space.n\n",
    "agent = RainbowDQNAgent(\n",
    "    input_size,\n",
    "    output_size,\n",
    "    network_update_frequency=5,\n",
    "    network_sync_frequency=20,\n",
    "    batch_size=16,\n",
    "    learning_rate=0.001,\n",
    "    discount_factor=0.95,\n",
    "    buffer_size=10000,\n",
    "    buffer_burn_in=32,\n",
    "    random_state=random_state,\n",
    ")\n",
    "learning_statistics = LearningStatistics()\n",
    "manager.train(agent, max_episodes=500, statistics=learning_statistics)\n",
    "learning_statistics.plot_learning_stats()"
   ]
  },
  {
   "cell_type": "code",
   "execution_count": null,
   "metadata": {},
   "outputs": [],
   "source": [
    "manager = CartpoleManager()\n",
    "random_state = RandomState(42)\n",
    "input_size = (manager.env.observation_space.shape[0])\n",
    "output_size = manager.env.action_space.n\n",
    "agent = ReinforceAgent(state_size=input_size, n_actions=output_size, discount_factor=0.95, learning_rate=0.001)\n",
    "learning_statistics = LearningStatistics()\n",
    "manager.train(agent, max_episodes=500, statistics=learning_statistics)\n",
    "learning_statistics.plot_learning_stats()"
   ]
  }
 ]
}