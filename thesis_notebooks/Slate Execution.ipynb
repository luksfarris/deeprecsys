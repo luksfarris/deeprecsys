{
 "metadata": {
  "language_info": {
   "codemirror_mode": {
    "name": "ipython",
    "version": 3
   },
   "file_extension": ".py",
   "mimetype": "text/x-python",
   "name": "python",
   "nbconvert_exporter": "python",
   "pygments_lexer": "ipython3",
   "version": "3.6.13"
  },
  "orig_nbformat": 2,
  "kernelspec": {
   "name": "python3613jvsc74a57bd0b1eaf65962b2c757aebf41083ae472141ef09901ff07595586c177957debc092",
   "display_name": "Python 3.6.13 64-bit ('venv')"
  },
  "metadata": {
   "interpreter": {
    "hash": "b1eaf65962b2c757aebf41083ae472141ef09901ff07595586c177957debc092"
   }
  }
 },
 "nbformat": 4,
 "nbformat_minor": 2,
 "cells": [
  {
   "cell_type": "code",
   "execution_count": 1,
   "metadata": {},
   "outputs": [],
   "source": [
    "from pydeeprecsys.rl.manager import MovieLensFairnessManager\n",
    "from pydeeprecsys.rl.agents.rainbow import RainbowDQNAgent\n",
    "from pydeeprecsys.rl.learning_statistics import LearningStatistics\n",
    "from pydeeprecsys.rl.agents.agent import RandomAgent\n",
    "import gym\n",
    "manager = MovieLensFairnessManager(random_state=None, slate_size=10)\n",
    "\n",
    "dqn_params = {\n",
    "    \"output_size\": manager.env.action_space.nvec[0],\n",
    "    \"input_size\": manager.env.observation_space.shape[0],\n",
    "    \"network_update_frequency\": 3,\n",
    "    \"network_sync_frequency\": 300,\n",
    "    \"priority_importance\": 0.4,\n",
    "    \"priority_weigth_growth\": 0.01,\n",
    "    \"buffer_size\": 10000,\n",
    "    \"buffer_burn_in\": 1000,\n",
    "    \"batch_size\": 32,\n",
    "    \"noise_sigma\": 0.017,\n",
    "    \"discount_factor\": 0.95,\n",
    "    \"learning_rate\": 0.001,\n",
    "    \"hidden_layers\": [512, 512, 128, 128],\n",
    "}"
   ]
  },
  {
   "cell_type": "code",
   "execution_count": 9,
   "metadata": {},
   "outputs": [
    {
     "output_type": "stream",
     "name": "stdout",
     "text": [
      "Training...\n",
      "Episode 499 Mean Rewards 3.11 Last Reward 4.04\t\tTraining...\n",
      "Episode 499 Mean Rewards 3.04 Last Reward 4.41\t\tTraining...\n",
      "Episode 499 Mean Rewards 3.11 Last Reward 4.04\t\tTraining...\n",
      "Episode 499 Mean Rewards 3.00 Last Reward 4.25\t\tTraining...\n",
      "Episode 499 Mean Rewards 3.11 Last Reward 4.04\t\tTraining...\n",
      "Episode 499 Mean Rewards 2.96 Last Reward 4.31\t\tTraining...\n",
      "Episode 499 Mean Rewards 3.11 Last Reward 4.04\t\tTraining...\n",
      "Episode 499 Mean Rewards 3.05 Last Reward 4.32\t\tTraining...\n",
      "Episode 499 Mean Rewards 3.11 Last Reward 4.04\t\tTraining...\n",
      "Episode 499 Mean Rewards 3.04 Last Reward 4.04\t\t"
     ]
    }
   ],
   "source": [
    "seeds = 5\n",
    "dcg_random_results = []\n",
    "ndcg_random_results = []\n",
    "dcg_dqn_results = []\n",
    "ndcg_dqn_results = []\n",
    "for i in range(seeds):\n",
    "    manager = MovieLensFairnessManager(random_state=None, slate_size=10)\n",
    "    agent = RandomAgent(manager.env.action_space)\n",
    "    stats = LearningStatistics()\n",
    "    manager.train(rl=agent,statistics=stats,max_episodes=500,should_print=True)\n",
    "    ndcg_random_results += manager.env.ndcg\n",
    "    dcg_random_results += manager.env.dcg\n",
    "    manager = MovieLensFairnessManager(random_state=None, slate_size=10)\n",
    "    agent = RainbowDQNAgent(**dqn_params)\n",
    "    stats = LearningStatistics()\n",
    "    manager.train(rl=agent,statistics=stats,max_episodes=500,should_print=True)\n",
    "    ndcg_dqn_results += manager.env.ndcg\n",
    "    dcg_dqn_results += manager.env.dcg"
   ]
  },
  {
   "cell_type": "code",
   "execution_count": 22,
   "metadata": {},
   "outputs": [],
   "source": [
    "import pandas as pd\n",
    "df = pd.DataFrame({\n",
    "    'dcg_random':dcg_random_results,\n",
    "    'ndcg_random':ndcg_random_results,\n",
    "    'dcg_dqn':dcg_dqn_results,\n",
    "    'ndcg_dqn':ndcg_dqn_results,\n",
    "})\n",
    "\n",
    "df.to_csv('output/relevance_metrics.csv')"
   ]
  },
  {
   "cell_type": "code",
   "execution_count": 23,
   "metadata": {},
   "outputs": [],
   "source": [
    "df.describe().to_csv('output/relevance_metrics_describe.csv')"
   ]
  }
 ]
}