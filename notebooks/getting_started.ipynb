{
 "cells": [
  {
   "cell_type": "code",
   "execution_count": 1,
   "id": "7e84d0d3",
   "metadata": {},
   "outputs": [],
   "source": [
    "import os\n",
    "if os.getcwd().endswith('notebooks'):\n",
    "    # if we are in the notebooks folder, we move to the root folder \n",
    "    os.chdir('..')"
   ]
  },
  {
   "cell_type": "markdown",
   "id": "73051b7b",
   "metadata": {},
   "source": [
    "# MovieLens Fairness Gym Environment"
   ]
  },
  {
   "cell_type": "code",
   "execution_count": 2,
   "id": "9391c92b",
   "metadata": {},
   "outputs": [
    {
     "data": {
      "text/plain": [
       "gym.wrappers.time_limit.TimeLimit"
      ]
     },
     "execution_count": 2,
     "metadata": {},
     "output_type": "execute_result"
    }
   ],
   "source": [
    "# we start by importing the environment module\n",
    "from pydeeprecsys.movielens_fairness_env import MovieLensFairness\n",
    "import gym\n",
    "# then we can create a gym environment with a particular slate size\n",
    "env = gym.make('MovieLensFairness-v0', slate_size=3)\n",
    "type(env)"
   ]
  },
  {
   "cell_type": "markdown",
   "id": "1ac60e81",
   "metadata": {},
   "source": [
    "Now we can understand what are states, actions and rewards in this environment. Let's start with state"
   ]
  },
  {
   "cell_type": "code",
   "execution_count": 3,
   "id": "4f32b245",
   "metadata": {
    "scrolled": true
   },
   "outputs": [
    {
     "data": {
      "text/plain": [
       "Box(0.0, 1.0, (25,), float32)"
      ]
     },
     "execution_count": 3,
     "metadata": {},
     "output_type": "execute_result"
    }
   ],
   "source": [
    "env.observation_space"
   ]
  },
  {
   "cell_type": "markdown",
   "id": "cbdd2f48",
   "metadata": {},
   "source": [
    "So we have 25 variables, in the (0,1) range:\n",
    "- 4 variables represent scaled (sex, age, occupation, zip code)\n",
    "- 19 variables, that are one-hot encodings for the category of the latest reviewed movie. Categories include Action, Crime, Thriller, and so on\n",
    "- 1 variable for the user's 5 star rating.\n",
    "- 1 variable for the movie's violence score.\n",
    "\n",
    "Let's see how they look like"
   ]
  },
  {
   "cell_type": "code",
   "execution_count": 4,
   "id": "ae630ad3",
   "metadata": {
    "scrolled": true
   },
   "outputs": [
    {
     "data": {
      "text/plain": [
       "array([0.        , 0.01785714, 0.1       , 0.60660607, 0.        ,\n",
       "       0.        , 0.        , 0.        , 0.        , 0.        ,\n",
       "       0.        , 0.        , 0.        , 0.        , 0.        ,\n",
       "       0.        , 0.        , 0.        , 0.        , 0.        ,\n",
       "       0.        , 0.        , 0.        , 0.        , 0.        ])"
      ]
     },
     "execution_count": 4,
     "metadata": {},
     "output_type": "execute_result"
    }
   ],
   "source": [
    "env.reset()"
   ]
  },
  {
   "cell_type": "markdown",
   "id": "5254a4d9",
   "metadata": {},
   "source": [
    "As you can see, the first 4 variables are set. Under the hood, the environment sampled a user from the user pool, and prepared it. The remaining variables are `0` because no movie has been recommended yet. Let's see how recommendations are made:"
   ]
  },
  {
   "cell_type": "code",
   "execution_count": 5,
   "id": "0dc97761",
   "metadata": {},
   "outputs": [
    {
     "data": {
      "text/plain": [
       "MultiDiscrete([3883 3883 3883])"
      ]
     },
     "execution_count": 5,
     "metadata": {},
     "output_type": "execute_result"
    }
   ],
   "source": [
    "env.action_space"
   ]
  },
  {
   "cell_type": "markdown",
   "id": "7f1694d1",
   "metadata": {},
   "source": [
    "Since we set our `slate_size` to `3`, this means that at each step the agent must recommend `3` movies. Recommendations are made based on the (discrete) movie identifier, that's why the action space is of type `MultiDiscrete`. `3883` is the amount of available movies. Let's make a recommendation: "
   ]
  },
  {
   "cell_type": "code",
   "execution_count": 6,
   "id": "f297b4d6",
   "metadata": {},
   "outputs": [
    {
     "data": {
      "text/plain": [
       "array([3723, 1525, 3048])"
      ]
     },
     "execution_count": 6,
     "metadata": {},
     "output_type": "execute_result"
    }
   ],
   "source": [
    "random_slate = env.action_space.sample()\n",
    "random_slate"
   ]
  },
  {
   "cell_type": "code",
   "execution_count": 7,
   "id": "7eef78eb",
   "metadata": {},
   "outputs": [],
   "source": [
    "state, reward, done, info = env.step(random_slate)"
   ]
  },
  {
   "cell_type": "markdown",
   "id": "a2c19807",
   "metadata": {},
   "source": [
    "After receiving a recommendation, the user makes a choice, and reviews the movie. Thanks to `Recsim` and `MLFairnessGym` we can:\n",
    "- affect the behavior of users after being exposed to movies, by encoding addiction/boredom dynamics into the user embedding\n",
    "- encode the violence score into the reward, so that recommending too many violent movies brings a negative reward \n",
    "\n",
    "Let's see the new state:"
   ]
  },
  {
   "cell_type": "code",
   "execution_count": 8,
   "id": "7d60f60d",
   "metadata": {},
   "outputs": [
    {
     "data": {
      "text/plain": [
       "array([0.        , 0.01785714, 0.1       , 0.60660607, 0.        ,\n",
       "       0.        , 0.        , 0.        , 0.        , 0.        ,\n",
       "       0.        , 0.        , 0.        , 0.        , 0.        ,\n",
       "       0.        , 0.        , 0.        , 0.        , 0.        ,\n",
       "       0.        , 0.        , 1.        , 1.        , 0.        ])"
      ]
     },
     "execution_count": 8,
     "metadata": {},
     "output_type": "execute_result"
    }
   ],
   "source": [
    "state"
   ]
  },
  {
   "cell_type": "markdown",
   "id": "2cef6eca",
   "metadata": {},
   "source": [
    "We can also inspect the reward, which is in range (0,1):"
   ]
  },
  {
   "cell_type": "code",
   "execution_count": 9,
   "id": "3ffd4994",
   "metadata": {},
   "outputs": [
    {
     "data": {
      "text/plain": [
       "1.0"
      ]
     },
     "execution_count": 9,
     "metadata": {},
     "output_type": "execute_result"
    }
   ],
   "source": [
    "reward"
   ]
  },
  {
   "cell_type": "markdown",
   "id": "eb9d8a06",
   "metadata": {},
   "source": [
    "And we can check if the episode is done. Currently, episodes are finished when the simulated user has rated `50` movies."
   ]
  },
  {
   "cell_type": "code",
   "execution_count": 10,
   "id": "ad306135",
   "metadata": {},
   "outputs": [
    {
     "data": {
      "text/plain": [
       "False"
      ]
     },
     "execution_count": 10,
     "metadata": {},
     "output_type": "execute_result"
    }
   ],
   "source": [
    "done"
   ]
  },
  {
   "cell_type": "markdown",
   "id": "35b6763e",
   "metadata": {},
   "source": [
    "# Training a Random Agent\n",
    "\n",
    "The `Manager` class facilitates a lot of things like training, hyperparameter optimization, and so on."
   ]
  },
  {
   "cell_type": "code",
   "execution_count": 11,
   "id": "f2d049af",
   "metadata": {},
   "outputs": [],
   "source": [
    "from pydeeprecsys.rl.manager import MovieLensFairnessManager\n",
    "from pydeeprecsys.rl.agents.agent import RandomAgent\n",
    "from pydeeprecsys.rl.learning_statistics import LearningStatistics"
   ]
  },
  {
   "cell_type": "code",
   "execution_count": 12,
   "id": "f408036f",
   "metadata": {},
   "outputs": [
    {
     "name": "stdout",
     "output_type": "stream",
     "text": [
      "Reward threshold: inf \n",
      "Reward signal range: (-inf, inf) \n",
      "Maximum episode steps: 50 \n",
      "Action apace size: Discrete(3883)\n",
      "Observation space size Box(0.0, 1.0, (25,), float32) \n"
     ]
    }
   ],
   "source": [
    "manager = MovieLensFairnessManager(slate_size=1)\n",
    "manager.print_overview()"
   ]
  },
  {
   "cell_type": "code",
   "execution_count": 13,
   "id": "98b55474",
   "metadata": {},
   "outputs": [
    {
     "name": "stdout",
     "output_type": "stream",
     "text": [
      "Training...\n",
      "Episode 199 Mean Rewards 31.38 Last Reward 18.44\t\t"
     ]
    }
   ],
   "source": [
    "agent = RandomAgent(action_space=manager.env.action_space)\n",
    "stats = LearningStatistics()\n",
    "manager.train(agent, stats, max_episodes=200, should_print=True)"
   ]
  },
  {
   "cell_type": "code",
   "execution_count": 14,
   "id": "ab20d15d",
   "metadata": {},
   "outputs": [
    {
     "data": {
      "image/png": "[encoded data removed]",
      "text/plain": [
       "<Figure size 864x432 with 4 Axes>"
      ]
     },
     "metadata": {
      "needs_background": "light"
     },
     "output_type": "display_data"
    }
   ],
   "source": [
    "stats.plot_learning_stats()"
   ]
  }
 ],
 "metadata": {
  "kernelspec": {
   "display_name": "Python 3.6.13 64-bit ('venv')",
   "language": "python",
   "name": "python3613jvsc74a57bd0b1eaf65962b2c757aebf41083ae472141ef09901ff07595586c177957debc092"
  },
  "language_info": {
   "codemirror_mode": {
    "name": "ipython",
    "version": 3
   },
   "file_extension": ".py",
   "mimetype": "text/x-python",
   "name": "python",
   "nbconvert_exporter": "python",
   "pygments_lexer": "ipython3",
   "version": "3.6.13"
  }
 },
 "nbformat": 4,
 "nbformat_minor": 5
}
